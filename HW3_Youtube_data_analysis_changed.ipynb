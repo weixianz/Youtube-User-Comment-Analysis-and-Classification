{
  "nbformat": 4,
  "nbformat_minor": 0,
  "metadata": {
    "name": "HW3 Youtube data analysis",
    "notebookId": 3362863342696921,
    "colab": {
      "name": "HW3 Youtube data analysis.ipynb",
      "provenance": [],
      "collapsed_sections": []
    },
    "kernelspec": {
      "name": "python3",
      "display_name": "Python 3"
    }
  },
  "cells": [
    {
      "cell_type": "markdown",
      "metadata": {
        "id": "ZWxuESKsJteM",
        "colab_type": "text"
      },
      "source": [
        "##  Youtube User comments analysis "
      ]
    },
    {
      "cell_type": "code",
      "metadata": {
        "id": "Wb7f_74f8Ne-",
        "colab_type": "code",
        "colab": {}
      },
      "source": [
        "#link: https://drive.google.com/file/d/1o3DsS3jN_t2Mw3TsV0i7ySRmh9kyYi1a/view?usp=sharin\n",
        "#command: wget https://drive.google.com/file/d/1o3DsS3jN_t2Mw3TsV0i7ySRmh9kyYi1a/view?usp=sharing"
      ],
      "execution_count": 0,
      "outputs": []
    },
    {
      "cell_type": "code",
      "metadata": {
        "id": "f0HBp5TV8NfC",
        "colab_type": "code",
        "colab": {}
      },
      "source": [
        "from pyspark.sql import SparkSession\n",
        "spark = SparkSession \\\n",
        "    .builder \\\n",
        "    .appName(\"youtube comment analysis\") \\\n",
        "    .config(\"spark.some.config.option\", \"some-value\") \\\n",
        "    .getOrCreate()\n",
        "spark.conf.set(\"spark.executor.heartbeatInterval\",\"3600s\")\n",
        "spark.catalog.clearCache()"
      ],
      "execution_count": 0,
      "outputs": []
    },
    {
      "cell_type": "markdown",
      "metadata": {
        "id": "IvKlgQ-T8NfG",
        "colab_type": "text"
      },
      "source": [
        "#### 0. Data Exploration and Cleaning"
      ]
    },
    {
      "cell_type": "code",
      "metadata": {
        "id": "FkQ3rhs-8NfH",
        "colab_type": "code",
        "colab": {},
        "outputId": "92eee2a4-5e98-4414-a101-0d51498ef02d"
      },
      "source": [
        "df_clean=spark.read.csv(\"/FileStore/tables/animals_comments.csv\",inferSchema=True,header=True)\n",
        "df_clean.head(5)"
      ],
      "execution_count": 0,
      "outputs": [
        {
          "output_type": "display_data",
          "data": {
            "text/html": [
              "<style scoped>\n",
              "  .ansiout {\n",
              "    display: block;\n",
              "    unicode-bidi: embed;\n",
              "    white-space: pre-wrap;\n",
              "    word-wrap: break-word;\n",
              "    word-break: break-all;\n",
              "    font-family: \"Source Code Pro\", \"Menlo\", monospace;;\n",
              "    font-size: 13px;\n",
              "    color: #555;\n",
              "    margin-left: 4px;\n",
              "    line-height: 19px;\n",
              "  }\n",
              "</style>\n",
              "<div class=\"ansiout\"><span class=\"ansired\">Out[</span><span class=\"ansired\">103</span><span class=\"ansired\">]: </span>[Row(creator_name=&apos;Doug The Pug&apos;, userid=87.0, comment=&apos;I shared this to my friends and mom the were lol&apos;),\n",
              " Row(creator_name=&apos;Doug The Pug&apos;, userid=87.0, comment=&apos;Super cute  😀🐕🐶&apos;),\n",
              " Row(creator_name=&apos;bulletproof&apos;, userid=530.0, comment=&apos;stop saying get em youre literally dumb . have some common sense or dont own this kind of dog. fucking retarded I swear&apos;),\n",
              " Row(creator_name=&apos;Meu Zoológico&apos;, userid=670.0, comment=&apos;Tenho uma jiboia e um largato&apos;),\n",
              " Row(creator_name=&apos;ojatro&apos;, userid=1031.0, comment=&apos;I wanna see what happened to the pigs after that  please&apos;)]</div>"
            ]
          },
          "metadata": {
            "tags": []
          }
        }
      ]
    },
    {
      "cell_type": "code",
      "metadata": {
        "id": "Zlm-c7M58NfL",
        "colab_type": "code",
        "colab": {},
        "outputId": "07ab51e1-bf79-4d05-b620-b4728b47517f"
      },
      "source": [
        "df_clean.count() "
      ],
      "execution_count": 0,
      "outputs": [
        {
          "output_type": "display_data",
          "data": {
            "text/html": [
              "<style scoped>\n",
              "  .ansiout {\n",
              "    display: block;\n",
              "    unicode-bidi: embed;\n",
              "    white-space: pre-wrap;\n",
              "    word-wrap: break-word;\n",
              "    word-break: break-all;\n",
              "    font-family: \"Source Code Pro\", \"Menlo\", monospace;;\n",
              "    font-size: 13px;\n",
              "    color: #555;\n",
              "    margin-left: 4px;\n",
              "    line-height: 19px;\n",
              "  }\n",
              "</style>\n",
              "<div class=\"ansiout\"><span class=\"ansired\">Out[</span><span class=\"ansired\">104</span><span class=\"ansired\">]: </span>5820035</div>"
            ]
          },
          "metadata": {
            "tags": []
          }
        }
      ]
    },
    {
      "cell_type": "code",
      "metadata": {
        "id": "5W5jZ0288NfO",
        "colab_type": "code",
        "colab": {},
        "outputId": "2ab43971-66fe-4fdd-fbc5-c232b5a67cf3"
      },
      "source": [
        "df_clean = df_clean.na.drop(subset=[\"comment\"])\n",
        "df_clean.count()"
      ],
      "execution_count": 0,
      "outputs": [
        {
          "output_type": "display_data",
          "data": {
            "text/html": [
              "<style scoped>\n",
              "  .ansiout {\n",
              "    display: block;\n",
              "    unicode-bidi: embed;\n",
              "    white-space: pre-wrap;\n",
              "    word-wrap: break-word;\n",
              "    word-break: break-all;\n",
              "    font-family: \"Source Code Pro\", \"Menlo\", monospace;;\n",
              "    font-size: 13px;\n",
              "    color: #555;\n",
              "    margin-left: 4px;\n",
              "    line-height: 19px;\n",
              "  }\n",
              "</style>\n",
              "<div class=\"ansiout\"><span class=\"ansired\">Out[</span><span class=\"ansired\">105</span><span class=\"ansired\">]: </span>5818984</div>"
            ]
          },
          "metadata": {
            "tags": []
          }
        }
      ]
    },
    {
      "cell_type": "code",
      "metadata": {
        "id": "aFDGgg5O8NfQ",
        "colab_type": "code",
        "colab": {},
        "outputId": "0d149c71-0c3f-4e79-a674-f8493e1fba0a"
      },
      "source": [
        "df_clean.show()"
      ],
      "execution_count": 0,
      "outputs": [
        {
          "output_type": "display_data",
          "data": {
            "text/html": [
              "<style scoped>\n",
              "  .ansiout {\n",
              "    display: block;\n",
              "    unicode-bidi: embed;\n",
              "    white-space: pre-wrap;\n",
              "    word-wrap: break-word;\n",
              "    word-break: break-all;\n",
              "    font-family: \"Source Code Pro\", \"Menlo\", monospace;;\n",
              "    font-size: 13px;\n",
              "    color: #555;\n",
              "    margin-left: 4px;\n",
              "    line-height: 19px;\n",
              "  }\n",
              "</style>\n",
              "<div class=\"ansiout\">+--------------------+------+-------------------------------------+\n",
              "        creator_name|userid|                              comment|\n",
              "+--------------------+------+-------------------------------------+\n",
              "        Doug The Pug|  87.0|                 I shared this to ...|\n",
              "        Doug The Pug|  87.0|                   Super cute  😀🐕🐶|\n",
              "         bulletproof| 530.0|                 stop saying get e...|\n",
              "       Meu Zoológico| 670.0|                 Tenho uma jiboia ...|\n",
              "              ojatro|1031.0|                 I wanna see what ...|\n",
              "     Tingle Triggers|1212.0|                 Well shit now Im ...|\n",
              "Hope For Paws - O...|1806.0|                 when I saw the en...|\n",
              "Hope For Paws - O...|2036.0|                 Holy crap. That i...|\n",
              "          Life Story|2637.0|武器はクエストで貰えるんじゃないん...|\n",
              "       Brian Barczyk|2698.0|                 Call the teddy Larry|\n",
              "            The Dodo|2702.0|                   😐🤔😓😢😭😭😭😭😟|\n",
              "Hope For Paws - O...|2911.0|                 That mother cat l...|\n",
              "Hope For Paws - O...|2911.0|                 Its people like H...|\n",
              "   Talking Kitty Cat|2911.0|                 steve: No wet foo...|\n",
              "    Brave Wilderness|3224.0|                 Dont call this a ...|\n",
              "          MaxluvsMya|3267.0|                 why are you alway...|\n",
              "Rise Up Society F...|3372.0|                           Deb Tucker|\n",
              "            The Dodo|3466.0|                 Thats a deer isnt...|\n",
              "    Brave Wilderness|3466.0|                 there is no safe ...|\n",
              "    Brave Wilderness|3466.0|                 Red before yellow...|\n",
              "+--------------------+------+-------------------------------------+\n",
              "only showing top 20 rows\n",
              "\n",
              "</div>"
            ]
          },
          "metadata": {
            "tags": []
          }
        }
      ]
    },
    {
      "cell_type": "code",
      "metadata": {
        "id": "2hJEdeUI8NfT",
        "colab_type": "code",
        "colab": {},
        "outputId": "ee4798ab-6757-432c-f5f6-a1e90e665b12"
      },
      "source": [
        "dogs = ['Labrador','German Shepherd','Golden Retriever','French Bulldog', \\\n",
        "        'Bulldog','Beagles','Poodles','Rottweiler' 'Pointer','German Shorthaired',\\\n",
        "        'Yorkshire Terrier','Boxer','Dachshund','Pembroke Welsh Corgis',\\\n",
        "        'Siberian Husky','Australian Shepherd','Great Dane','Doberman Pinscher',\\\n",
        "        'Cavalier King Charles Spaniel','Miniature Schnauzer','Shih Tzu',\\\n",
        "        'Boston Terrier','Bernese Mountain Dog','Pomeranian','Havanese',\\\n",
        "        'Shetland Sheepdog','Brittany','Spaniel','English Springer',\\\n",
        "        'Pug','Mastiff','Spaniel','Cocker','Vizsla','Cane Corso',\\\n",
        "        'Chihuahua','Miniature American Shepherd','Border Colly',\\\n",
        "        'Weimaraner','Maltese','Collie','Basset Hound','Newfoundland',\\\n",
        "        'Rhodesian Ridgeback',\t'West Highland White Terrier','Belgian Malinois',\\\n",
        "        'Shiba Inu','Chesapeake Bay','Bichons Fry','Akitas','St. Bernard',\\\n",
        "        'Bloodhound','Portuguese Water Dog','Bullmastiff','puppy','pup','dog']\n",
        "\n",
        "cats = ['Exotic','Ragdoll','British Shorthair','Persian','Maine Coon Cat',\\\n",
        "        'American Shorthair','Scottish Fold','Sphynx','Devon Rex','Abyssinian',\n",
        "        'Oriental','Siamese','Cornish Rex','Norwegian Forest Cat','Siberian',\\\n",
        "        'Birman','Russian Blue','Bengal','Tonkinese','Burmese','Ocicat','American Curl',\\\n",
        "        'Selkirk Rex','Japanese Bobtail','Egyptian Mau','RagaMuffin','Somali','Balinese/Javanese',\\\n",
        "        'Manx','Singapura','Bombay','Colorpoint Shorthair','Turkish Angora','American Bobtail',\\\n",
        "        'European Burmese','Chartreux','Korat','Havana Brown','Burmilla','LaPerm','Turkish Van','American Wirehair','kitty','pussy','cat']\n"
      ],
      "execution_count": 0,
      "outputs": [
        {
          "output_type": "display_data",
          "data": {
            "text/html": [
              "<style scoped>\n",
              "  .ansiout {\n",
              "    display: block;\n",
              "    unicode-bidi: embed;\n",
              "    white-space: pre-wrap;\n",
              "    word-wrap: break-word;\n",
              "    word-break: break-all;\n",
              "    font-family: \"Source Code Pro\", \"Menlo\", monospace;;\n",
              "    font-size: 13px;\n",
              "    color: #555;\n",
              "    margin-left: 4px;\n",
              "    line-height: 19px;\n",
              "  }\n",
              "</style>\n",
              "<div class=\"ansiout\"></div>"
            ]
          },
          "metadata": {
            "tags": []
          }
        }
      ]
    },
    {
      "cell_type": "code",
      "metadata": {
        "id": "9IhCyS4q8NfW",
        "colab_type": "code",
        "colab": {},
        "outputId": "085f718d-bc07-4fa0-b45f-dba220ef3311"
      },
      "source": [
        "from pyspark.sql.functions import when\n",
        "pets = dogs+cats\n",
        "key_words1 = [\"I have a \"+pet for pet in pets]\n",
        "key_words2 = [\"my \"+pet for pet in pets]\n",
        "key_words = key_words1+key_words2\n",
        "\n",
        "condition = when(df_clean[\"comment\"].like(\"%my dog%\"),1)\n",
        "for key_word in key_words:\n",
        "  condition = condition.when(df_clean[\"comment\"].like(\"%\"+key_word+\"%\"),1)\n"
      ],
      "execution_count": 0,
      "outputs": [
        {
          "output_type": "display_data",
          "data": {
            "text/html": [
              "<style scoped>\n",
              "  .ansiout {\n",
              "    display: block;\n",
              "    unicode-bidi: embed;\n",
              "    white-space: pre-wrap;\n",
              "    word-wrap: break-word;\n",
              "    word-break: break-all;\n",
              "    font-family: \"Source Code Pro\", \"Menlo\", monospace;;\n",
              "    font-size: 13px;\n",
              "    color: #555;\n",
              "    margin-left: 4px;\n",
              "    line-height: 19px;\n",
              "  }\n",
              "</style>\n",
              "<div class=\"ansiout\"></div>"
            ]
          },
          "metadata": {
            "tags": []
          }
        }
      ]
    },
    {
      "cell_type": "code",
      "metadata": {
        "id": "V1171MdV8NfZ",
        "colab_type": "code",
        "colab": {},
        "outputId": "99797a4f-1ff3-4506-87c9-d95ee722797d"
      },
      "source": [
        "df_clean = df_clean.withColumn(\"label\",(condition.otherwise(0)))"
      ],
      "execution_count": 0,
      "outputs": [
        {
          "output_type": "display_data",
          "data": {
            "text/html": [
              "<style scoped>\n",
              "  .ansiout {\n",
              "    display: block;\n",
              "    unicode-bidi: embed;\n",
              "    white-space: pre-wrap;\n",
              "    word-wrap: break-word;\n",
              "    word-break: break-all;\n",
              "    font-family: \"Source Code Pro\", \"Menlo\", monospace;;\n",
              "    font-size: 13px;\n",
              "    color: #555;\n",
              "    margin-left: 4px;\n",
              "    line-height: 19px;\n",
              "  }\n",
              "</style>\n",
              "<div class=\"ansiout\"></div>"
            ]
          },
          "metadata": {
            "tags": []
          }
        }
      ]
    },
    {
      "cell_type": "code",
      "metadata": {
        "id": "iIpkKZDs8Nfb",
        "colab_type": "code",
        "colab": {}
      },
      "source": [
        "# find user with preference of dog and cat\n",
        "# from pyspark.sql.functions import when\n",
        "# from pyspark.sql.functions import col\n",
        "\n",
        "# # you can user your ways to extract the label\n",
        "\n",
        "# df_clean = df_clean.withColumn(\"label\", \\\n",
        "#                            (when(df_clean[\"comment\"].like(\"%my dog%\"), 1) \\\n",
        "#                             .when(df_clean[\"comment\"].like(\"%my dog%\"), 1) \\\n",
        "#                            .when(df_clean[\"comment\"].like(\"%I have a dog%\"), 1) \\\n",
        "#                            .when(df_clean[\"comment\"].like(\"%my cat%\"), 1) \\\n",
        "#                            .when(df_clean[\"comment\"].like(\"%I have a cat%\"), 1) \\\n",
        "#                            .when(df_clean[\"comment\"].like(\"%my puppy%\"), 1) \\\n",
        "#                            .when(df_clean[\"comment\"].like(\"%my pup%\"), 1) \\\n",
        "#                            .when(df_clean[\"comment\"].like(\"%my kitty%\"), 1) \\\n",
        "#                             .when(df_clean[\"comment\"].like(\"%my pup%\"), 1) \\\n",
        "#                             .when(df_clean[\"comment\"].like(\"%my kitty%\"), 1) \\\n",
        "#                            .when(df_clean[\"comment\"].like(\"%my pussy%\"), 1) \\\n",
        "#                            .when(df_clean[\"comment\"].like(\"%my Labrador%\"), 1) \\\n",
        "#                              .when(df_clean[\"comment\"].like(\"%I have a Labrador%\"), 1) \\\n",
        "                           \n",
        "                           \n",
        "#                            .otherwise(0)))\n",
        "# expr\n",
        "#df_clean = df_clean.withColumn('label',when(col('comment').rlike(expr),1).otherwise(0))"
      ],
      "execution_count": 0,
      "outputs": []
    },
    {
      "cell_type": "code",
      "metadata": {
        "id": "Gxr_xt498Nfe",
        "colab_type": "code",
        "colab": {},
        "outputId": "cfce8d7f-7ee6-4342-e1a2-d29eb12e12a7"
      },
      "source": [
        "df_clean.show()"
      ],
      "execution_count": 0,
      "outputs": [
        {
          "output_type": "display_data",
          "data": {
            "text/html": [
              "<style scoped>\n",
              "  .ansiout {\n",
              "    display: block;\n",
              "    unicode-bidi: embed;\n",
              "    white-space: pre-wrap;\n",
              "    word-wrap: break-word;\n",
              "    word-break: break-all;\n",
              "    font-family: \"Source Code Pro\", \"Menlo\", monospace;;\n",
              "    font-size: 13px;\n",
              "    color: #555;\n",
              "    margin-left: 4px;\n",
              "    line-height: 19px;\n",
              "  }\n",
              "</style>\n",
              "<div class=\"ansiout\">+--------------------+------+-------------------------------------+-----+\n",
              "        creator_name|userid|                              comment|label|\n",
              "+--------------------+------+-------------------------------------+-----+\n",
              "        Doug The Pug|  87.0|                 I shared this to ...|    0|\n",
              "        Doug The Pug|  87.0|                   Super cute  😀🐕🐶|    0|\n",
              "         bulletproof| 530.0|                 stop saying get e...|    0|\n",
              "       Meu Zoológico| 670.0|                 Tenho uma jiboia ...|    0|\n",
              "              ojatro|1031.0|                 I wanna see what ...|    0|\n",
              "     Tingle Triggers|1212.0|                 Well shit now Im ...|    0|\n",
              "Hope For Paws - O...|1806.0|                 when I saw the en...|    0|\n",
              "Hope For Paws - O...|2036.0|                 Holy crap. That i...|    0|\n",
              "          Life Story|2637.0|武器はクエストで貰えるんじゃないん...|    0|\n",
              "       Brian Barczyk|2698.0|                 Call the teddy Larry|    0|\n",
              "            The Dodo|2702.0|                   😐🤔😓😢😭😭😭😭😟|    0|\n",
              "Hope For Paws - O...|2911.0|                 That mother cat l...|    0|\n",
              "Hope For Paws - O...|2911.0|                 Its people like H...|    0|\n",
              "   Talking Kitty Cat|2911.0|                 steve: No wet foo...|    0|\n",
              "    Brave Wilderness|3224.0|                 Dont call this a ...|    0|\n",
              "          MaxluvsMya|3267.0|                 why are you alway...|    0|\n",
              "Rise Up Society F...|3372.0|                           Deb Tucker|    0|\n",
              "            The Dodo|3466.0|                 Thats a deer isnt...|    0|\n",
              "    Brave Wilderness|3466.0|                 there is no safe ...|    0|\n",
              "    Brave Wilderness|3466.0|                 Red before yellow...|    0|\n",
              "+--------------------+------+-------------------------------------+-----+\n",
              "only showing top 20 rows\n",
              "\n",
              "</div>"
            ]
          },
          "metadata": {
            "tags": []
          }
        }
      ]
    },
    {
      "cell_type": "markdown",
      "metadata": {
        "id": "ymWqWz7P8Nfg",
        "colab_type": "text"
      },
      "source": [
        "#### 1. Data preprocessing and Build the classifier"
      ]
    },
    {
      "cell_type": "code",
      "metadata": {
        "id": "AZ2C0CSG8Nfh",
        "colab_type": "code",
        "colab": {},
        "outputId": "bd90d907-166f-472d-b24d-94fdc95fd42a"
      },
      "source": [
        "from pyspark.ml.feature import RegexTokenizer, Word2Vec\n",
        "from pyspark.ml.classification import LogisticRegression\n",
        "\n",
        "regexTokenizer = RegexTokenizer(inputCol=\"comment\", outputCol=\"words\", pattern=\"\\\\W\")\n",
        "word2Vec = Word2Vec(inputCol=\"words\", outputCol=\"features\")\n"
      ],
      "execution_count": 0,
      "outputs": [
        {
          "output_type": "display_data",
          "data": {
            "text/html": [
              "<style scoped>\n",
              "  .ansiout {\n",
              "    display: block;\n",
              "    unicode-bidi: embed;\n",
              "    white-space: pre-wrap;\n",
              "    word-wrap: break-word;\n",
              "    word-break: break-all;\n",
              "    font-family: \"Source Code Pro\", \"Menlo\", monospace;;\n",
              "    font-size: 13px;\n",
              "    color: #555;\n",
              "    margin-left: 4px;\n",
              "    line-height: 19px;\n",
              "  }\n",
              "</style>\n",
              "<div class=\"ansiout\"></div>"
            ]
          },
          "metadata": {
            "tags": []
          }
        }
      ]
    },
    {
      "cell_type": "code",
      "metadata": {
        "id": "idj_GzoD8Nfj",
        "colab_type": "code",
        "colab": {},
        "outputId": "363e203f-4a61-4969-adec-7787522e44d1"
      },
      "source": [
        "from pyspark.ml import Pipeline\n",
        "\n",
        "pipeline = Pipeline(stages=[regexTokenizer, word2Vec])\n",
        "\n",
        "# Fit the pipeline to training documents.\n",
        "pipelineFit = pipeline.fit(df_clean)\n",
        "dataset = pipelineFit.transform(df_clean)"
      ],
      "execution_count": 0,
      "outputs": [
        {
          "output_type": "display_data",
          "data": {
            "text/html": [
              "<style scoped>\n",
              "  .ansiout {\n",
              "    display: block;\n",
              "    unicode-bidi: embed;\n",
              "    white-space: pre-wrap;\n",
              "    word-wrap: break-word;\n",
              "    word-break: break-all;\n",
              "    font-family: \"Source Code Pro\", \"Menlo\", monospace;;\n",
              "    font-size: 13px;\n",
              "    color: #555;\n",
              "    margin-left: 4px;\n",
              "    line-height: 19px;\n",
              "  }\n",
              "</style>\n",
              "<div class=\"ansiout\"></div>"
            ]
          },
          "metadata": {
            "tags": []
          }
        }
      ]
    },
    {
      "cell_type": "code",
      "metadata": {
        "id": "Eo3sa_K38Nfl",
        "colab_type": "code",
        "colab": {},
        "outputId": "4a93d9d6-aa95-4270-c559-b1e7710cf141"
      },
      "source": [
        "\n",
        "dataset.head(5)"
      ],
      "execution_count": 0,
      "outputs": [
        {
          "output_type": "display_data",
          "data": {
            "text/html": [
              "<style scoped>\n",
              "  .ansiout {\n",
              "    display: block;\n",
              "    unicode-bidi: embed;\n",
              "    white-space: pre-wrap;\n",
              "    word-wrap: break-word;\n",
              "    word-break: break-all;\n",
              "    font-family: \"Source Code Pro\", \"Menlo\", monospace;;\n",
              "    font-size: 13px;\n",
              "    color: #555;\n",
              "    margin-left: 4px;\n",
              "    line-height: 19px;\n",
              "  }\n",
              "</style>\n",
              "<div class=\"ansiout\"><span class=\"ansired\">Out[</span><span class=\"ansired\">113</span><span class=\"ansired\">]: </span>[Row(creator_name=&apos;Doug The Pug&apos;, userid=87.0, comment=&apos;I shared this to my friends and mom the were lol&apos;, label=0, words=[&apos;i&apos;, &apos;shared&apos;, &apos;this&apos;, &apos;to&apos;, &apos;my&apos;, &apos;friends&apos;, &apos;and&apos;, &apos;mom&apos;, &apos;the&apos;, &apos;were&apos;, &apos;lol&apos;], features=DenseVector([-0.0723, 0.0462, 0.1065, -0.186, -0.0022, -0.0732, -0.0007, 0.0619, 0.0464, 0.0264, -0.0622, 0.052, 0.0086, -0.0239, 0.0154, -0.0431, 0.0479, -0.0555, 0.0134, -0.0163, -0.1083, 0.2686, 0.0759, 0.01, 0.0892, 0.0278, 0.0583, -0.1432, 0.1026, -0.0783, -0.0517, -0.054, -0.0272, 0.1188, -0.059, -0.0458, 0.121, 0.0761, -0.0462, 0.0505, 0.0059, -0.0557, -0.0755, 0.129, 0.0481, -0.0839, 0.0435, -0.1281, 0.0499, -0.0944, -0.0222, 0.0063, 0.1095, -0.019, 0.0647, 0.0078, 0.1265, 0.0785, 0.0543, 0.0938, 0.0185, -0.0805, -0.0323, 0.0362, 0.0467, 0.0458, -0.0024, 0.0373, -0.02, 0.0903, 0.024, 0.0958, 0.1504, 0.0532, 0.1226, -0.0065, 0.0009, 0.0313, -0.1192, -0.0366, -0.1073, -0.0294, 0.0757, -0.2384, -0.1934, -0.1536, 0.025, -0.1968, -0.0738, -0.0749, 0.0571, 0.0855, -0.0771, -0.0359, -0.1616, 0.04, 0.014, -0.0331, -0.0504, -0.0572])),\n",
              " Row(creator_name=&apos;Doug The Pug&apos;, userid=87.0, comment=&apos;Super cute  😀🐕🐶&apos;, label=0, words=[&apos;super&apos;, &apos;cute&apos;], features=DenseVector([0.0973, -0.345, 0.0786, -0.3135, -0.0371, -0.2789, 0.0112, -0.0758, -0.2755, -0.0108, -0.1294, -0.3212, -0.2176, 0.0192, -0.1333, 0.3517, 0.1446, -0.1624, -0.0486, -0.0749, 0.1171, 0.2127, 0.065, -0.1051, 0.3524, 0.0821, -0.2054, -0.0804, -0.1412, 0.1142, -0.415, 0.1902, 0.1404, 0.1749, -0.4045, -0.0682, 0.15, -0.2618, 0.3187, -0.0325, 0.2509, -0.1934, 0.2224, -0.1431, 0.0082, 0.121, -0.1157, 0.1001, 0.0868, 0.0462, 0.006, 0.1949, 0.0073, 0.0808, 0.197, 0.1489, 0.3341, 0.0092, 0.3081, -0.0713, -0.1105, 0.0943, -0.1008, -0.0298, 0.1892, 0.0233, 0.0443, 0.0267, 0.0453, 0.3703, -0.044, 0.0448, 0.1145, 0.1575, -0.0681, -0.0919, -0.0606, 0.007, 0.1125, 0.3689, -0.0181, 0.2174, 0.1087, 0.0694, 0.4002, -0.0768, -0.0176, -0.1225, 0.1821, -0.0211, 0.0448, -0.161, -0.1994, -0.216, -0.0855, -0.2878, -0.3041, 0.038, -0.2506, -0.3163])),\n",
              " Row(creator_name=&apos;bulletproof&apos;, userid=530.0, comment=&apos;stop saying get em youre literally dumb . have some common sense or dont own this kind of dog. fucking retarded I swear&apos;, label=0, words=[&apos;stop&apos;, &apos;saying&apos;, &apos;get&apos;, &apos;em&apos;, &apos;youre&apos;, &apos;literally&apos;, &apos;dumb&apos;, &apos;have&apos;, &apos;some&apos;, &apos;common&apos;, &apos;sense&apos;, &apos;or&apos;, &apos;dont&apos;, &apos;own&apos;, &apos;this&apos;, &apos;kind&apos;, &apos;of&apos;, &apos;dog&apos;, &apos;fucking&apos;, &apos;retarded&apos;, &apos;i&apos;, &apos;swear&apos;], features=DenseVector([-0.0506, -0.0028, 0.0705, -0.1271, 0.035, -0.1024, -0.26, 0.0808, 0.0185, -0.072, -0.0106, 0.0198, 0.0453, -0.0445, -0.104, -0.0045, 0.1179, -0.0604, 0.1131, 0.0809, -0.0805, 0.0834, 0.0913, -0.0552, 0.0167, 0.0702, 0.0858, 0.004, 0.1674, -0.0004, -0.0286, -0.0484, 0.016, -0.0027, 0.073, -0.1423, 0.1807, -0.0886, 0.0513, -0.0795, 0.0313, -0.0722, 0.0051, 0.1209, 0.2299, -0.0495, 0.1275, 0.0018, 0.0272, -0.015, -0.0237, -0.043, 0.0993, -0.0039, -0.0689, -0.0069, 0.0185, -0.0162, 0.0082, 0.1207, 0.0576, -0.1014, -0.0055, 0.0053, -0.1232, 0.0065, 0.0373, 0.0712, -0.0115, 0.0996, 0.134, 0.0631, 0.1523, -0.0218, 0.0117, -0.1216, 0.0529, 0.1302, -0.0188, 0.0358, -0.0511, -0.0938, 0.0443, -0.0756, -0.0556, -0.0552, -0.0166, -0.2212, -0.0211, -0.0459, 0.1353, 0.0467, -0.0429, -0.0396, 0.0714, -0.0118, 0.1074, -0.0766, 0.024, -0.0789])),\n",
              " Row(creator_name=&apos;Meu Zoológico&apos;, userid=670.0, comment=&apos;Tenho uma jiboia e um largato&apos;, label=0, words=[&apos;tenho&apos;, &apos;uma&apos;, &apos;jiboia&apos;, &apos;e&apos;, &apos;um&apos;, &apos;largato&apos;], features=DenseVector([-0.3916, 0.1766, -0.1078, -0.0173, 0.1734, 0.0209, -0.0721, 0.075, -0.0878, 0.0374, -0.1445, -0.0743, -0.0069, -0.229, 0.0477, 0.0732, -0.3743, 0.1015, -0.0773, 0.174, 0.0137, -0.1497, 0.0441, -0.0765, -0.2372, 0.1609, -0.1194, 0.1948, 0.2907, 0.1305, 0.0586, 0.0817, -0.3884, -0.2576, -0.4373, 0.2466, 0.2403, -0.2055, 0.0366, -0.1326, 0.0407, -0.0403, 0.3839, -0.2489, 0.2964, -0.0759, 0.6868, 0.2701, -0.4109, -0.0177, 0.3878, -0.1555, -0.2294, -0.158, 0.0494, 0.1599, -0.1407, -0.4018, -0.1535, 0.2227, -0.2189, 0.5849, -0.2176, 0.3062, 0.1176, 0.1397, 0.1631, 0.3419, -0.1604, 0.1642, 0.0945, -0.1635, -0.4166, -0.227, 0.2386, 0.9259, 0.1031, -0.2222, 0.2492, 0.0042, -0.2405, 0.239, -0.3291, 0.0253, 0.0819, 0.4952, 0.1654, 0.2707, 0.1964, -0.0416, 0.0681, 0.5437, 0.6239, 0.1131, 0.0523, 0.3857, -0.6409, 0.3099, 0.0372, 0.1243])),\n",
              " Row(creator_name=&apos;ojatro&apos;, userid=1031.0, comment=&apos;I wanna see what happened to the pigs after that  please&apos;, label=0, words=[&apos;i&apos;, &apos;wanna&apos;, &apos;see&apos;, &apos;what&apos;, &apos;happened&apos;, &apos;to&apos;, &apos;the&apos;, &apos;pigs&apos;, &apos;after&apos;, &apos;that&apos;, &apos;please&apos;], features=DenseVector([-0.0953, 0.0656, 0.0696, -0.0185, 0.0348, -0.0291, -0.1273, 0.0506, -0.0002, 0.024, 0.0032, -0.0067, -0.0213, -0.0267, 0.0726, -0.0592, 0.2136, -0.0835, 0.0219, 0.1392, -0.0881, 0.158, -0.0535, -0.0292, -0.1192, 0.0411, 0.0466, -0.0548, 0.1342, -0.0245, -0.0473, -0.0001, 0.0046, 0.1511, -0.0279, -0.0006, 0.0664, 0.0297, -0.114, 0.0171, -0.0017, -0.0084, 0.0968, 0.1654, 0.1449, -0.0228, 0.0853, -0.2063, 0.0024, 0.058, -0.0249, -0.0549, -0.0238, 0.0753, -0.0297, 0.055, 0.1803, -0.0033, 0.0366, 0.1181, 0.1189, -0.0779, 0.0108, 0.1053, -0.0273, 0.0095, 0.0299, 0.0224, 0.0172, 0.0674, 0.2081, -0.0307, 0.1283, 0.1073, 0.1329, -0.145, 0.034, 0.1271, -0.0899, 0.1066, -0.1843, -0.063, 0.0911, -0.1039, 0.0125, -0.1469, 0.0932, -0.1216, -0.0685, 0.0149, 0.1041, -0.0196, -0.032, -0.0022, -0.0897, 0.0419, 0.094, -0.0634, 0.0066, -0.14]))]</div>"
            ]
          },
          "metadata": {
            "tags": []
          }
        }
      ]
    },
    {
      "cell_type": "code",
      "metadata": {
        "id": "TUft9Xo_8Nfn",
        "colab_type": "code",
        "colab": {},
        "outputId": "dd9b09e7-e810-47c7-9f82-db9bf9047d9c"
      },
      "source": [
        "from pyspark.sql.functions import col\n",
        "Label1_count = dataset.filter(col('label')==1).count()\n",
        "Label0_count = dataset.filter(col('label')==0).count()\n",
        "print(\"1-label data is: \"+str(Label1_count),\"\\n0-label data is: \"+str(Label0_count))"
      ],
      "execution_count": 0,
      "outputs": [
        {
          "output_type": "display_data",
          "data": {
            "text/html": [
              "<style scoped>\n",
              "  .ansiout {\n",
              "    display: block;\n",
              "    unicode-bidi: embed;\n",
              "    white-space: pre-wrap;\n",
              "    word-wrap: break-word;\n",
              "    word-break: break-all;\n",
              "    font-family: \"Source Code Pro\", \"Menlo\", monospace;;\n",
              "    font-size: 13px;\n",
              "    color: #555;\n",
              "    margin-left: 4px;\n",
              "    line-height: 19px;\n",
              "  }\n",
              "</style>\n",
              "<div class=\"ansiout\">1-label data is: 41391 \n",
              "0-label data is: 5777593\n",
              "</div>"
            ]
          },
          "metadata": {
            "tags": []
          }
        }
      ]
    },
    {
      "cell_type": "markdown",
      "metadata": {
        "id": "mKHPkZjw8Nfq",
        "colab_type": "text"
      },
      "source": [
        "number of 1-label data and 0-label are off by more than 100 times, so the dataset is highly skewed. We need to do down-sampling for the 0-label data. Since 40K data is big enough for training, we will downsampling the 0-label data to be same with the 1-label data, so their ratio is close to 1:1 (use only about 40k data from the 5.7M 0-label data)"
      ]
    },
    {
      "cell_type": "code",
      "metadata": {
        "id": "tt_TzLM48Nfq",
        "colab_type": "code",
        "colab": {},
        "outputId": "46d9ff21-1225-463a-8942-b9806700bb32"
      },
      "source": [
        "(label1_train, label1_test)=dataset.filter(col('label')==1).randomSplit([0.8,0.2],seed = 100)\n",
        "(label0_train, label0_ex)=dataset.filter(col('label')==0).randomSplit([0.005, 0.995],seed = 100)\n",
        "(label0_test, label0_ex2)=label0_ex.randomSplit([0.002,0.998],seed = 100)"
      ],
      "execution_count": 0,
      "outputs": [
        {
          "output_type": "display_data",
          "data": {
            "text/html": [
              "<style scoped>\n",
              "  .ansiout {\n",
              "    display: block;\n",
              "    unicode-bidi: embed;\n",
              "    white-space: pre-wrap;\n",
              "    word-wrap: break-word;\n",
              "    word-break: break-all;\n",
              "    font-family: \"Source Code Pro\", \"Menlo\", monospace;;\n",
              "    font-size: 13px;\n",
              "    color: #555;\n",
              "    margin-left: 4px;\n",
              "    line-height: 19px;\n",
              "  }\n",
              "</style>\n",
              "<div class=\"ansiout\"></div>"
            ]
          },
          "metadata": {
            "tags": []
          }
        }
      ]
    },
    {
      "cell_type": "code",
      "metadata": {
        "id": "HynZp_bF8Nft",
        "colab_type": "code",
        "colab": {},
        "outputId": "c93834e7-dc10-4798-b1f0-a441c25ae01c"
      },
      "source": [
        "trainingData = label1_train.union(label0_train)\n",
        "testData=label1_test.union(label0_test)"
      ],
      "execution_count": 0,
      "outputs": [
        {
          "output_type": "display_data",
          "data": {
            "text/html": [
              "<style scoped>\n",
              "  .ansiout {\n",
              "    display: block;\n",
              "    unicode-bidi: embed;\n",
              "    white-space: pre-wrap;\n",
              "    word-wrap: break-word;\n",
              "    word-break: break-all;\n",
              "    font-family: \"Source Code Pro\", \"Menlo\", monospace;;\n",
              "    font-size: 13px;\n",
              "    color: #555;\n",
              "    margin-left: 4px;\n",
              "    line-height: 19px;\n",
              "  }\n",
              "</style>\n",
              "<div class=\"ansiout\"></div>"
            ]
          },
          "metadata": {
            "tags": []
          }
        }
      ]
    },
    {
      "cell_type": "code",
      "metadata": {
        "id": "6ay7AfYr8Nfv",
        "colab_type": "code",
        "colab": {},
        "outputId": "f110cc47-9e3e-4f30-958e-d1306c049d2d"
      },
      "source": [
        "#print(\"Dataset Count: \" + str(dataset.count()))\n",
        "print(\"Training Dataset Count: \" + str(trainingData.count()))\n",
        "# print(\"Validation Dataset Count: \" + str(validationData.count()))\n",
        "print(\"Test Dataset Count: \" + str(testData.count()))"
      ],
      "execution_count": 0,
      "outputs": [
        {
          "output_type": "display_data",
          "data": {
            "text/html": [
              "<style scoped>\n",
              "  .ansiout {\n",
              "    display: block;\n",
              "    unicode-bidi: embed;\n",
              "    white-space: pre-wrap;\n",
              "    word-wrap: break-word;\n",
              "    word-break: break-all;\n",
              "    font-family: \"Source Code Pro\", \"Menlo\", monospace;;\n",
              "    font-size: 13px;\n",
              "    color: #555;\n",
              "    margin-left: 4px;\n",
              "    line-height: 19px;\n",
              "  }\n",
              "</style>\n",
              "<div class=\"ansiout\">Training Dataset Count: 61787\n",
              "Test Dataset Count: 19615\n",
              "</div>"
            ]
          },
          "metadata": {
            "tags": []
          }
        }
      ]
    },
    {
      "cell_type": "code",
      "metadata": {
        "id": "hphnNIHk8Nfx",
        "colab_type": "code",
        "colab": {},
        "outputId": "9dc1ba56-995b-4548-e08b-3d7f9a315825"
      },
      "source": [
        "trainingData.cache()\n",
        "testData.cache()"
      ],
      "execution_count": 0,
      "outputs": [
        {
          "output_type": "display_data",
          "data": {
            "text/html": [
              "<style scoped>\n",
              "  .ansiout {\n",
              "    display: block;\n",
              "    unicode-bidi: embed;\n",
              "    white-space: pre-wrap;\n",
              "    word-wrap: break-word;\n",
              "    word-break: break-all;\n",
              "    font-family: \"Source Code Pro\", \"Menlo\", monospace;;\n",
              "    font-size: 13px;\n",
              "    color: #555;\n",
              "    margin-left: 4px;\n",
              "    line-height: 19px;\n",
              "  }\n",
              "</style>\n",
              "<div class=\"ansiout\"><span class=\"ansired\">Out[</span><span class=\"ansired\">117</span><span class=\"ansired\">]: </span>DataFrame[creator_name: string, userid: double, comment: string, label: int, words: array&lt;string&gt;, features: vector]</div>"
            ]
          },
          "metadata": {
            "tags": []
          }
        }
      ]
    },
    {
      "cell_type": "markdown",
      "metadata": {
        "id": "vaWQ5cPD8Nf3",
        "colab_type": "text"
      },
      "source": [
        "##### LogisticRegression"
      ]
    },
    {
      "cell_type": "code",
      "metadata": {
        "id": "uzA1aC7d8Nf4",
        "colab_type": "code",
        "colab": {},
        "outputId": "ca2ca2e3-6003-449f-821e-eea1b3233bce"
      },
      "source": [
        "from pyspark.ml.tuning import CrossValidator, ParamGridBuilder\n",
        "from pyspark.ml.evaluation import BinaryClassificationEvaluator\n"
      ],
      "execution_count": 0,
      "outputs": [
        {
          "output_type": "display_data",
          "data": {
            "text/html": [
              "<style scoped>\n",
              "  .ansiout {\n",
              "    display: block;\n",
              "    unicode-bidi: embed;\n",
              "    white-space: pre-wrap;\n",
              "    word-wrap: break-word;\n",
              "    word-break: break-all;\n",
              "    font-family: \"Source Code Pro\", \"Menlo\", monospace;;\n",
              "    font-size: 13px;\n",
              "    color: #555;\n",
              "    margin-left: 4px;\n",
              "    line-height: 19px;\n",
              "  }\n",
              "</style>\n",
              "<div class=\"ansiout\"></div>"
            ]
          },
          "metadata": {
            "tags": []
          }
        }
      ]
    },
    {
      "cell_type": "code",
      "metadata": {
        "id": "yPuAlKFf8Nf8",
        "colab_type": "code",
        "colab": {},
        "outputId": "084da826-3594-4104-e354-478d91ab966a"
      },
      "source": [
        "def train_LR(trainingData, maxiter, reg_param):\n",
        "    best_regularization = 0\n",
        "    best_iteration = 0\n",
        "    best_model = None\n",
        "    best_roc = 0\n",
        "    lr = LogisticRegression()\n",
        "    evaluator = BinaryClassificationEvaluator(rawPredictionCol=\"rawPrediction\",labelCol='label',metricName='areaUnderROC')\n",
        "    ROCs = []\n",
        "    for reg in reg_param:\n",
        "      ROC = []\n",
        "      for itera in maxiter:\n",
        "              paramGrid = (ParamGridBuilder().addGrid(lr.regParam, [reg]).addGrid(lr.maxIter, [itera]).build())\n",
        "              cv = CrossValidator(estimator=lr, estimatorParamMaps=paramGrid, evaluator=evaluator, numFolds=5)\n",
        "              model = cv.fit(trainingData)\n",
        "              roc = model.avgMetrics[0]\n",
        "              #predictions = model.transform(testData)\n",
        "              #roc = evaluator.evaluate(predictions)\n",
        "              ROC.append(roc)\n",
        "              if len(ROC) == len(reg_param):\n",
        "                ROCs.append(ROC)\n",
        "              print ('{} iteration and regularization = {}: average AUC is {}'.format(itera, reg, roc))\n",
        "            \n",
        "              if roc > best_roc:\n",
        "                best_roc = roc\n",
        "                best_iteration = itera\n",
        "                best_regularization = reg\n",
        "                best_model = model\n",
        "    print ('\\nThe best model has {} iteration and regularization = {},with AUC = {}'.format(best_iteration, best_regularization,best_roc))\n",
        "    return ROCs,best_model "
      ],
      "execution_count": 0,
      "outputs": [
        {
          "output_type": "display_data",
          "data": {
            "text/html": [
              "<style scoped>\n",
              "  .ansiout {\n",
              "    display: block;\n",
              "    unicode-bidi: embed;\n",
              "    white-space: pre-wrap;\n",
              "    word-wrap: break-word;\n",
              "    word-break: break-all;\n",
              "    font-family: \"Source Code Pro\", \"Menlo\", monospace;;\n",
              "    font-size: 13px;\n",
              "    color: #555;\n",
              "    margin-left: 4px;\n",
              "    line-height: 19px;\n",
              "  }\n",
              "</style>\n",
              "<div class=\"ansiout\"></div>"
            ]
          },
          "metadata": {
            "tags": []
          }
        }
      ]
    },
    {
      "cell_type": "code",
      "metadata": {
        "id": "XRtjzAv98Nf-",
        "colab_type": "code",
        "colab": {},
        "outputId": "ec977c8f-6567-47f1-f147-ae0ff9adcd77"
      },
      "source": [
        "maxiter = [1, 5, 10]\n",
        "reg_param = [0.01, 0.5, 2.0]\n",
        "lr_ROCs, best_model = train_LR(trainingData, maxiter,reg_param)"
      ],
      "execution_count": 0,
      "outputs": [
        {
          "output_type": "display_data",
          "data": {
            "text/html": [
              "<style scoped>\n",
              "  .ansiout {\n",
              "    display: block;\n",
              "    unicode-bidi: embed;\n",
              "    white-space: pre-wrap;\n",
              "    word-wrap: break-word;\n",
              "    word-break: break-all;\n",
              "    font-family: \"Source Code Pro\", \"Menlo\", monospace;;\n",
              "    font-size: 13px;\n",
              "    color: #555;\n",
              "    margin-left: 4px;\n",
              "    line-height: 19px;\n",
              "  }\n",
              "</style>\n",
              "<div class=\"ansiout\">1 iteration and regularization = 0.01: average AUC is 0.9247046788875871\n",
              "5 iteration and regularization = 0.01: average AUC is 0.9435034697265106\n",
              "10 iteration and regularization = 0.01: average AUC is 0.9563585863743205\n",
              "1 iteration and regularization = 0.5: average AUC is 0.9247046788875875\n",
              "5 iteration and regularization = 0.5: average AUC is 0.9398347500644163\n",
              "10 iteration and regularization = 0.5: average AUC is 0.945467516188904\n",
              "1 iteration and regularization = 2.0: average AUC is 0.924704678887587\n",
              "5 iteration and regularization = 2.0: average AUC is 0.9369767042407879\n",
              "10 iteration and regularization = 2.0: average AUC is 0.9359852007512148\n",
              "\n",
              "The best model has 10 iteration and regularization = 0.01,with AUC = 0.9563585863743205\n",
              "</div>"
            ]
          },
          "metadata": {
            "tags": []
          }
        }
      ]
    },
    {
      "cell_type": "code",
      "metadata": {
        "id": "fQYKGqaW8NgA",
        "colab_type": "code",
        "colab": {},
        "outputId": "c1d6f389-855f-46c8-e9cd-7d0fd95ff6c8"
      },
      "source": [
        "evaluator = BinaryClassificationEvaluator(rawPredictionCol=\"rawPrediction\",labelCol='label',metricName='areaUnderROC')\n",
        "predictions = best_model.transform(testData)\n",
        "print(\"the testData AUC is: \"+str(evaluator.evaluate(predictions)))"
      ],
      "execution_count": 0,
      "outputs": [
        {
          "output_type": "display_data",
          "data": {
            "text/html": [
              "<style scoped>\n",
              "  .ansiout {\n",
              "    display: block;\n",
              "    unicode-bidi: embed;\n",
              "    white-space: pre-wrap;\n",
              "    word-wrap: break-word;\n",
              "    word-break: break-all;\n",
              "    font-family: \"Source Code Pro\", \"Menlo\", monospace;;\n",
              "    font-size: 13px;\n",
              "    color: #555;\n",
              "    margin-left: 4px;\n",
              "    line-height: 19px;\n",
              "  }\n",
              "</style>\n",
              "<div class=\"ansiout\">the testData AUC is: 0.9563183103490603\n",
              "</div>"
            ]
          },
          "metadata": {
            "tags": []
          }
        }
      ]
    },
    {
      "cell_type": "code",
      "metadata": {
        "id": "R-0sDs298NgD",
        "colab_type": "code",
        "colab": {},
        "outputId": "8a636fc3-fa9e-4e20-f64a-d54069b71704"
      },
      "source": [
        "import numpy as np\n",
        "lr_ROC = np.array(lr_ROCs)\n",
        "import seaborn as sns\n",
        "import matplotlib.pyplot as plt"
      ],
      "execution_count": 0,
      "outputs": [
        {
          "output_type": "display_data",
          "data": {
            "text/html": [
              "<style scoped>\n",
              "  .ansiout {\n",
              "    display: block;\n",
              "    unicode-bidi: embed;\n",
              "    white-space: pre-wrap;\n",
              "    word-wrap: break-word;\n",
              "    word-break: break-all;\n",
              "    font-family: \"Source Code Pro\", \"Menlo\", monospace;;\n",
              "    font-size: 13px;\n",
              "    color: #555;\n",
              "    margin-left: 4px;\n",
              "    line-height: 19px;\n",
              "  }\n",
              "</style>\n",
              "<div class=\"ansiout\"></div>"
            ]
          },
          "metadata": {
            "tags": []
          }
        }
      ]
    },
    {
      "cell_type": "code",
      "metadata": {
        "id": "KTKQrbvj8NgF",
        "colab_type": "code",
        "colab": {},
        "outputId": "f3e86354-46e7-46fd-f8ef-f9fb8341c0e7"
      },
      "source": [
        "\n",
        "fig,ax = plt.subplots()\n",
        "ax.plot(maxiter,lr_ROC[0,:],marker = 'o',label = 'reg = 0.01')\n",
        "ax.plot(maxiter,lr_ROC[1,:],marker = 'o',label = 'reg = 0.5')\n",
        "ax.plot(maxiter,lr_ROC[2,:],marker = 'o',label = 'reg = 2.0')\n",
        "ax.set_xlabel('maxiter')\n",
        "ax.set_ylabel('ROC')\n",
        "ax.legend(loc = 'upperleft')\n",
        "\n",
        "fig.tight_layout()\n",
        "display(fig)\n"
      ],
      "execution_count": 0,
      "outputs": [
        {
          "output_type": "display_data",
          "data": {
            "image/png": "[encoded data removed]"
          },
          "metadata": {
            "tags": []
          }
        }
      ]
    },
    {
      "cell_type": "markdown",
      "metadata": {
        "id": "ztK2tNBA8NgH",
        "colab_type": "text"
      },
      "source": [
        "##### RandomForest"
      ]
    },
    {
      "cell_type": "code",
      "metadata": {
        "id": "gpsdQ4K78NgH",
        "colab_type": "code",
        "colab": {},
        "outputId": "5f474556-b0e3-49ab-d092-cfc437718f77"
      },
      "source": [
        "from pyspark.ml.classification import RandomForestClassifier"
      ],
      "execution_count": 0,
      "outputs": [
        {
          "output_type": "display_data",
          "data": {
            "text/html": [
              "<style scoped>\n",
              "  .ansiout {\n",
              "    display: block;\n",
              "    unicode-bidi: embed;\n",
              "    white-space: pre-wrap;\n",
              "    word-wrap: break-word;\n",
              "    word-break: break-all;\n",
              "    font-family: \"Source Code Pro\", \"Menlo\", monospace;;\n",
              "    font-size: 13px;\n",
              "    color: #555;\n",
              "    margin-left: 4px;\n",
              "    line-height: 19px;\n",
              "  }\n",
              "</style>\n",
              "<div class=\"ansiout\"></div>"
            ]
          },
          "metadata": {
            "tags": []
          }
        }
      ]
    },
    {
      "cell_type": "code",
      "metadata": {
        "id": "kKSGMMhu8NgJ",
        "colab_type": "code",
        "colab": {},
        "outputId": "c91d4799-4643-468d-ae4b-469ee51512f1"
      },
      "source": [
        "def train_RF(trainingData, numTrees, maxDepth):\n",
        "    best_num_trees = 0\n",
        "    best_max_depth = 0\n",
        "    best_model = None\n",
        "    best_roc = 0\n",
        "    rf = RandomForestClassifier(seed=42)\n",
        "    evaluator = BinaryClassificationEvaluator(rawPredictionCol=\"rawPrediction\",labelCol='label',metricName='areaUnderROC')\n",
        "    rf_ROCs = []\n",
        "    for num_tree in numTrees:\n",
        "      ROC = []\n",
        "      for depth in maxDepth:\n",
        "            paramGrid = (ParamGridBuilder().addGrid(rf.numTrees, [num_tree]).addGrid(rf.maxDepth, [depth]).build())\n",
        "            cv = CrossValidator(estimator=rf, estimatorParamMaps=paramGrid, evaluator=evaluator, numFolds=5)\n",
        "            model = cv.fit(trainingData)\n",
        "            roc = model.avgMetrics[0]\n",
        "            ROC.append(roc)\n",
        "            if len(ROC) == len(maxDepth):\n",
        "              rf_ROCs.append(ROC)\n",
        "            print ('{} number of trees and maximum depth = {}: avreage AUC is {}'.format(num_tree, depth, roc))\n",
        "            \n",
        "            if roc > best_roc:\n",
        "                best_roc = roc\n",
        "                best_num_trees = num_tree\n",
        "                best_max_depth = depth\n",
        "                best_model = model\n",
        "    print ('\\nThe best model has {} trees and maximum = {},with a roc = {}'.format(best_num_trees, best_max_depth,best_roc))\n",
        "    return rf_ROCs,best_model "
      ],
      "execution_count": 0,
      "outputs": [
        {
          "output_type": "display_data",
          "data": {
            "text/html": [
              "<style scoped>\n",
              "  .ansiout {\n",
              "    display: block;\n",
              "    unicode-bidi: embed;\n",
              "    white-space: pre-wrap;\n",
              "    word-wrap: break-word;\n",
              "    word-break: break-all;\n",
              "    font-family: \"Source Code Pro\", \"Menlo\", monospace;;\n",
              "    font-size: 13px;\n",
              "    color: #555;\n",
              "    margin-left: 4px;\n",
              "    line-height: 19px;\n",
              "  }\n",
              "</style>\n",
              "<div class=\"ansiout\"></div>"
            ]
          },
          "metadata": {
            "tags": []
          }
        }
      ]
    },
    {
      "cell_type": "code",
      "metadata": {
        "id": "6uP3XHyc8NgL",
        "colab_type": "code",
        "colab": {},
        "outputId": "3cb301fc-d9e8-4bc9-c2dc-4b83fc74f8ea"
      },
      "source": [
        "numTrees = [10,20,50]\n",
        "maxDepth = [1,5,10]\n",
        "rf_ROCs, best_model1 = train_RF(trainingData, numTrees,maxDepth)"
      ],
      "execution_count": 0,
      "outputs": [
        {
          "output_type": "display_data",
          "data": {
            "text/html": [
              "<style scoped>\n",
              "  .ansiout {\n",
              "    display: block;\n",
              "    unicode-bidi: embed;\n",
              "    white-space: pre-wrap;\n",
              "    word-wrap: break-word;\n",
              "    word-break: break-all;\n",
              "    font-family: \"Source Code Pro\", \"Menlo\", monospace;;\n",
              "    font-size: 13px;\n",
              "    color: #555;\n",
              "    margin-left: 4px;\n",
              "    line-height: 19px;\n",
              "  }\n",
              "</style>\n",
              "<div class=\"ansiout\">10 number of trees and maximum depth = 1: avreage AUC is 0.8577484637053813\n",
              "10 number of trees and maximum depth = 5: avreage AUC is 0.9364601921328538\n",
              "10 number of trees and maximum depth = 10: avreage AUC is 0.9576984772105444\n",
              "20 number of trees and maximum depth = 1: avreage AUC is 0.8845475593690646\n",
              "20 number of trees and maximum depth = 5: avreage AUC is 0.9420869945930664\n",
              "20 number of trees and maximum depth = 10: avreage AUC is 0.9612199294878707\n",
              "50 number of trees and maximum depth = 1: avreage AUC is 0.9062622441082733\n",
              "50 number of trees and maximum depth = 5: avreage AUC is 0.9496775707941773\n",
              "50 number of trees and maximum depth = 10: avreage AUC is 0.9648375165465486\n",
              "\n",
              "The best model has 50 trees and maximum = 10,with a roc = 0.9648375165465486\n",
              "</div>"
            ]
          },
          "metadata": {
            "tags": []
          }
        }
      ]
    },
    {
      "cell_type": "code",
      "metadata": {
        "id": "vzAWBpVE8NgN",
        "colab_type": "code",
        "colab": {},
        "outputId": "f8097bdd-a952-4a26-9203-7447e1153b6a"
      },
      "source": [
        "evaluator = BinaryClassificationEvaluator(rawPredictionCol=\"rawPrediction\",labelCol='label',metricName='areaUnderROC')\n",
        "predictions = best_model1.transform(testData)\n",
        "print(\"the testData AUC is: \"+str(evaluator.evaluate(predictions)))"
      ],
      "execution_count": 0,
      "outputs": [
        {
          "output_type": "display_data",
          "data": {
            "text/html": [
              "<style scoped>\n",
              "  .ansiout {\n",
              "    display: block;\n",
              "    unicode-bidi: embed;\n",
              "    white-space: pre-wrap;\n",
              "    word-wrap: break-word;\n",
              "    word-break: break-all;\n",
              "    font-family: \"Source Code Pro\", \"Menlo\", monospace;;\n",
              "    font-size: 13px;\n",
              "    color: #555;\n",
              "    margin-left: 4px;\n",
              "    line-height: 19px;\n",
              "  }\n",
              "</style>\n",
              "<div class=\"ansiout\">the testData AUC is: 0.964590572910228\n",
              "</div>"
            ]
          },
          "metadata": {
            "tags": []
          }
        }
      ]
    },
    {
      "cell_type": "code",
      "metadata": {
        "id": "bPCrxPZY8NgQ",
        "colab_type": "code",
        "colab": {},
        "outputId": "ff9fc4f3-106f-40d0-9e5e-87e4719ed1d4"
      },
      "source": [
        "rf_ROC = np.array(rf_ROCs)\n",
        "fig,ax = plt.subplots()\n",
        "ax.plot(numTrees,rf_ROC[0,:],marker = 'o',label = 'maxDepth = 1')\n",
        "ax.plot(numTrees,rf_ROC[1,:],marker = 'o',label = 'maxDepth = 5')\n",
        "ax.plot(numTrees,rf_ROC[2,:],marker = 'o',label = 'maxDepth = 10')\n",
        "\n",
        "ax.set_xlabel('numTrees')\n",
        "ax.set_ylabel('AUC')\n",
        "ax.legend(loc = 'upperleft')\n",
        "\n",
        "fig.tight_layout()\n",
        "display(fig)"
      ],
      "execution_count": 0,
      "outputs": [
        {
          "output_type": "display_data",
          "data": {
            "image/png": "[encoded data removed]"
          },
          "metadata": {
            "tags": []
          }
        }
      ]
    },
    {
      "cell_type": "markdown",
      "metadata": {
        "id": "gF8ohBeq8NgT",
        "colab_type": "text"
      },
      "source": [
        "##### Gradient boosting"
      ]
    },
    {
      "cell_type": "code",
      "metadata": {
        "id": "hx9WjW4P8NgU",
        "colab_type": "code",
        "colab": {},
        "outputId": "f170167a-0086-4f19-84a1-c70587597d64"
      },
      "source": [
        "from pyspark.ml.classification import GBTClassifier"
      ],
      "execution_count": 0,
      "outputs": [
        {
          "output_type": "display_data",
          "data": {
            "text/html": [
              "<style scoped>\n",
              "  .ansiout {\n",
              "    display: block;\n",
              "    unicode-bidi: embed;\n",
              "    white-space: pre-wrap;\n",
              "    word-wrap: break-word;\n",
              "    word-break: break-all;\n",
              "    font-family: \"Source Code Pro\", \"Menlo\", monospace;;\n",
              "    font-size: 13px;\n",
              "    color: #555;\n",
              "    margin-left: 4px;\n",
              "    line-height: 19px;\n",
              "  }\n",
              "</style>\n",
              "<div class=\"ansiout\"></div>"
            ]
          },
          "metadata": {
            "tags": []
          }
        }
      ]
    },
    {
      "cell_type": "code",
      "metadata": {
        "id": "AEcUEoiH8NgW",
        "colab_type": "code",
        "colab": {},
        "outputId": "ce36122f-5f95-44e5-ce85-b20adae92d59"
      },
      "source": [
        "def train_GB(trainingData, numTrees, maxDepth):\n",
        "    best_iteration = 0\n",
        "    best_max_depth = 0\n",
        "    best_model = None\n",
        "    best_roc = 0\n",
        "    GB = GBTClassifier(seed=43432)\n",
        "    evaluator = BinaryClassificationEvaluator(rawPredictionCol=\"rawPrediction\",labelCol='label',metricName='areaUnderROC')\n",
        "    GB_ROCs = []\n",
        "    for itera in maxIter:\n",
        "      ROC = []\n",
        "      for depth in maxDepth:\n",
        "            paramGrid = (ParamGridBuilder().addGrid(GB.maxIter, [itera]).addGrid(GB.maxDepth, [depth]).build())\n",
        "            cv = CrossValidator(estimator=GB, estimatorParamMaps=paramGrid, evaluator=evaluator, numFolds=5)\n",
        "            model = cv.fit(trainingData)\n",
        "            roc = model.avgMetrics[0]\n",
        "            ROC.append(roc)\n",
        "            if len(ROC) == len(maxDepth):\n",
        "              GB_ROCs.append(ROC)\n",
        "            print ('{} iteration and maximum depth = {}: Average AUC is {}'.format(itera, depth, roc))\n",
        "            \n",
        "            if roc > best_roc:\n",
        "                best_roc = roc\n",
        "                best_iteration = itera\n",
        "                best_max_depth = depth\n",
        "                best_model = model\n",
        "    print ('\\nThe best model has {} iteration and maximum_depth = {},with AUC = {}'.format(best_iteration, best_max_depth,best_roc))\n",
        "    return GB_ROCs,best_model "
      ],
      "execution_count": 0,
      "outputs": [
        {
          "output_type": "display_data",
          "data": {
            "text/html": [
              "<style scoped>\n",
              "  .ansiout {\n",
              "    display: block;\n",
              "    unicode-bidi: embed;\n",
              "    white-space: pre-wrap;\n",
              "    word-wrap: break-word;\n",
              "    word-break: break-all;\n",
              "    font-family: \"Source Code Pro\", \"Menlo\", monospace;;\n",
              "    font-size: 13px;\n",
              "    color: #555;\n",
              "    margin-left: 4px;\n",
              "    line-height: 19px;\n",
              "  }\n",
              "</style>\n",
              "<div class=\"ansiout\"></div>"
            ]
          },
          "metadata": {
            "tags": []
          }
        }
      ]
    },
    {
      "cell_type": "code",
      "metadata": {
        "id": "3RaK4sA58NgY",
        "colab_type": "code",
        "colab": {},
        "outputId": "fa203304-96ea-40ad-9ddb-8349e9d79cc2"
      },
      "source": [
        "maxIter = [1,5,10]\n",
        "maxDepth = [1,5,10]\n",
        "GB_ROCs, best_model2 = train_GB(trainingData, maxIter,maxDepth)"
      ],
      "execution_count": 0,
      "outputs": [
        {
          "output_type": "display_data",
          "data": {
            "text/html": [
              "<style scoped>\n",
              "  .ansiout {\n",
              "    display: block;\n",
              "    unicode-bidi: embed;\n",
              "    white-space: pre-wrap;\n",
              "    word-wrap: break-word;\n",
              "    word-break: break-all;\n",
              "    font-family: \"Source Code Pro\", \"Menlo\", monospace;;\n",
              "    font-size: 13px;\n",
              "    color: #555;\n",
              "    margin-left: 4px;\n",
              "    line-height: 19px;\n",
              "  }\n",
              "</style>\n",
              "<div class=\"ansiout\">1 iteration and maximum depth = 1: Average AUC is 0.6888205724548444\n",
              "1 iteration and maximum depth = 5: Average AUC is 0.8606735660380546\n",
              "1 iteration and maximum depth = 10: Average AUC is 0.8957745294051207\n",
              "5 iteration and maximum depth = 1: Average AUC is 0.8478620844523921\n",
              "5 iteration and maximum depth = 5: Average AUC is 0.9253258255718837\n",
              "5 iteration and maximum depth = 10: Average AUC is 0.9377109746089313\n",
              "10 iteration and maximum depth = 1: Average AUC is 0.8899787689856622\n",
              "10 iteration and maximum depth = 5: Average AUC is 0.9417168258216713\n",
              "10 iteration and maximum depth = 10: Average AUC is 0.9508605701529933\n",
              "\n",
              "The best model has 10 iteration and maximum_depth = 10,with AUC = 0.9508605701529933\n",
              "</div>"
            ]
          },
          "metadata": {
            "tags": []
          }
        }
      ]
    },
    {
      "cell_type": "code",
      "metadata": {
        "id": "lxJBHYfE8Ngc",
        "colab_type": "code",
        "colab": {},
        "outputId": "44d7c886-08ab-4a05-cd40-d225ed61d5e0"
      },
      "source": [
        "evaluator = BinaryClassificationEvaluator(rawPredictionCol=\"rawPrediction\",labelCol='label',metricName='areaUnderROC')\n",
        "predictions = best_model2.transform(testData)\n",
        "print(\"the testData AUC is: \"+str(evaluator.evaluate(predictions)))"
      ],
      "execution_count": 0,
      "outputs": [
        {
          "output_type": "display_data",
          "data": {
            "text/html": [
              "<style scoped>\n",
              "  .ansiout {\n",
              "    display: block;\n",
              "    unicode-bidi: embed;\n",
              "    white-space: pre-wrap;\n",
              "    word-wrap: break-word;\n",
              "    word-break: break-all;\n",
              "    font-family: \"Source Code Pro\", \"Menlo\", monospace;;\n",
              "    font-size: 13px;\n",
              "    color: #555;\n",
              "    margin-left: 4px;\n",
              "    line-height: 19px;\n",
              "  }\n",
              "</style>\n",
              "<div class=\"ansiout\">the testData AUC is: 0.950753316050469\n",
              "</div>"
            ]
          },
          "metadata": {
            "tags": []
          }
        }
      ]
    },
    {
      "cell_type": "code",
      "metadata": {
        "id": "G8WdhH7F8Nge",
        "colab_type": "code",
        "colab": {},
        "outputId": "f49d0a22-0d4f-4068-be90-13115c5e74e7"
      },
      "source": [
        "GB_ROC = np.array(GB_ROCs)\n",
        "fig,ax = plt.subplots()\n",
        "ax.plot(maxIter,GB_ROC[0,:],marker = 'o',label = 'maxDepth = 1')\n",
        "ax.plot(maxIter,GB_ROC[1,:],marker = 'o',label = 'maxDepth = 2')\n",
        "ax.plot(maxIter,GB_ROC[2,:],marker = 'o',label = 'maxDepth = 5')\n",
        "ax.set_xlabel('maxDepth')\n",
        "ax.set_ylabel('ROC')\n",
        "ax.legend(loc = 'upperleft')\n",
        "\n",
        "fig.tight_layout()\n",
        "display(fig)"
      ],
      "execution_count": 0,
      "outputs": [
        {
          "output_type": "display_data",
          "data": {
            "image/png": "[encoded data removed]"
          },
          "metadata": {
            "tags": []
          }
        }
      ]
    },
    {
      "cell_type": "markdown",
      "metadata": {
        "id": "ToAb-7wj8Ngh",
        "colab_type": "text"
      },
      "source": [
        "I found that the best model is the random forest model which has a best AUC score of 0.964, However, since the 3 models' performance are very close to each other, the other two model may have close or better performance if we fine tune the hyper-parameters"
      ]
    },
    {
      "cell_type": "markdown",
      "metadata": {
        "id": "Zvp9ZE298Ngi",
        "colab_type": "text"
      },
      "source": [
        "#### 2. Classify All The Users"
      ]
    },
    {
      "cell_type": "code",
      "metadata": {
        "id": "oLim6oCb8Ngj",
        "colab_type": "code",
        "colab": {},
        "outputId": "eba93d23-4b10-4ec2-f6f1-c97290888920"
      },
      "source": [
        "the_best_model = best_model1    # random forest model "
      ],
      "execution_count": 0,
      "outputs": [
        {
          "output_type": "display_data",
          "data": {
            "text/html": [
              "<style scoped>\n",
              "  .ansiout {\n",
              "    display: block;\n",
              "    unicode-bidi: embed;\n",
              "    white-space: pre-wrap;\n",
              "    word-wrap: break-word;\n",
              "    word-break: break-all;\n",
              "    font-family: \"Source Code Pro\", \"Menlo\", monospace;;\n",
              "    font-size: 13px;\n",
              "    color: #555;\n",
              "    margin-left: 4px;\n",
              "    line-height: 19px;\n",
              "  }\n",
              "</style>\n",
              "<div class=\"ansiout\"></div>"
            ]
          },
          "metadata": {
            "tags": []
          }
        }
      ]
    },
    {
      "cell_type": "code",
      "metadata": {
        "id": "TXsRqb3j8Ngm",
        "colab_type": "code",
        "colab": {},
        "outputId": "832570e1-2245-4e74-c0d7-0edcaaeaed66"
      },
      "source": [
        "prediction = the_best_model.transform(dataset)\n",
        "total_pet_owner = prediction.filter(\"prediction = 1.0\").select(\"userid\").distinct().count()\n",
        "total_population = prediction.select(\"userid\").distinct().count()\n",
        "pet_owner_ratio = float(total_pet_owner)/float(total_population)\n",
        "print('total_pet_owner :',total_pet_owner)\n",
        "print('total_population :',total_population)\n",
        "print('pet_owner_ratio :',pet_owner_ratio)"
      ],
      "execution_count": 0,
      "outputs": [
        {
          "output_type": "display_data",
          "data": {
            "text/html": [
              "<style scoped>\n",
              "  .ansiout {\n",
              "    display: block;\n",
              "    unicode-bidi: embed;\n",
              "    white-space: pre-wrap;\n",
              "    word-wrap: break-word;\n",
              "    word-break: break-all;\n",
              "    font-family: \"Source Code Pro\", \"Menlo\", monospace;;\n",
              "    font-size: 13px;\n",
              "    color: #555;\n",
              "    margin-left: 4px;\n",
              "    line-height: 19px;\n",
              "  }\n",
              "</style>\n",
              "<div class=\"ansiout\">total_pet_owner : 548167\n",
              "total_population : 2536892\n",
              "pet_owner_ratio : 0.21607817754953698\n",
              "</div>"
            ]
          },
          "metadata": {
            "tags": []
          }
        }
      ]
    },
    {
      "cell_type": "markdown",
      "metadata": {
        "id": "1_hNbNXY8Ngo",
        "colab_type": "text"
      },
      "source": [
        "#### 3. Get insigts of Users"
      ]
    },
    {
      "cell_type": "code",
      "metadata": {
        "id": "h0fNC3QX8Ngo",
        "colab_type": "code",
        "colab": {},
        "outputId": "f884d150-ce2b-4d50-ef5d-2d3cf9d8a44c"
      },
      "source": [
        "from pyspark.ml.clustering import LDA\n",
        "from pyspark.ml.feature import CountVectorizer, CountVectorizerModel\n",
        "from pyspark.ml.feature import StopWordsRemover\n",
        "\n",
        "pet_owner = prediction.filter(\"prediction = 1.0\").select('userid','comment')\n",
        "\n",
        "regexTokenizer = RegexTokenizer(inputCol=\"comment\", outputCol=\"words\", pattern=\"\\\\W\")\n",
        "remover = StopWordsRemover(inputCol = \"words\", outputCol=\"words_no_stop\")\n",
        "\n",
        "pipeline = Pipeline(stages=[regexTokenizer,remover])\n",
        "pipelinefit = pipeline.fit(pet_owner)\n",
        "clean_owner =pipelinefit.transform(pet_owner)\n",
        "\n",
        "cv = CountVectorizer(inputCol = \"words_no_stop\", outputCol = \"features\", minTF=2,minDF=4)\n",
        "# Fit the pipeline to training documents.\n",
        "countVectorModel = cv.fit(clean_owner)\n",
        "countVectors = countVectorModel.transform(clean_owner).select(\"userid\", \"features\").cache()\n",
        "\n",
        "lda = LDA(k = 10,maxIter = 50)\n",
        "ldaModel = lda.fit(countVectors)\n",
        "topics = ldaModel.describeTopics(maxTermsPerTopic=20)\n",
        "vocabArray = countVectorModel.vocabulary\n",
        "\n",
        "ListOfIndexToWords = udf(lambda wl: list([vocabArray[w] for w in wl]))\n",
        "FormatNumbers = udf(lambda nl: [\"{:1.4f}\".format(x) for x in nl])\n",
        "\n",
        "topics.select(ListOfIndexToWords(topics.termIndices).alias('words')).show(truncate=False, n=10)"
      ],
      "execution_count": 0,
      "outputs": [
        {
          "output_type": "display_data",
          "data": {
            "text/html": [
              "<style scoped>\n",
              "  .ansiout {\n",
              "    display: block;\n",
              "    unicode-bidi: embed;\n",
              "    white-space: pre-wrap;\n",
              "    word-wrap: break-word;\n",
              "    word-break: break-all;\n",
              "    font-family: \"Source Code Pro\", \"Menlo\", monospace;;\n",
              "    font-size: 13px;\n",
              "    color: #555;\n",
              "    margin-left: 4px;\n",
              "    line-height: 19px;\n",
              "  }\n",
              "</style>\n",
              "<div class=\"ansiout\">+-----------------------------------------------------------------------------------------------------------------------------------------+\n",
              "words                                                                                                                                    |\n",
              "+-----------------------------------------------------------------------------------------------------------------------------------------+\n",
              "[dogs, people, good, dog, hes, fish, go, time, back, life, get, said, animal, well, know, one, always, like, also, way]                  |\n",
              "[cat, videos, make, day, need, never, bit, house, watch, feel, oh, use, maybe, something, found, stop, brother, eyes, every, eye]        |\n",
              "[im, 3, going, hope, kittens, kitty, m, sorry, poor, friend, lot, theyre, glad, get, guinea, molly, cheese, start, pig, funny]           |\n",
              "[dog, get, cats, food, old, mom, think, 2, eat, guys, puppy, two, please, year, years, kids, even, man, boo, getting]                    |\n",
              "[video, know, water, happy, channel, watching, show, ever, give, best, better, coyote, d, buy, omg, wish, someone, litter, night, trying]|\n",
              "[one, horse, horses, lol, shes, time, see, big, bunny, ride, riding, mother, head, puppies, room, helmet, hair, hermit, hurt, id]        |\n",
              "[little, cage, cute, hamster, look, rabbit, thats, husky, sad, new, fucking, turtles, rabbits, xd, bed, box, betta, ears, friends, toy]  |\n",
              "[like, u, animals, help, tank, ive, great, ur, snakes, bird, looks, still, 1, birds, scared, hand, birthday, face, let, rats]            |\n",
              "[love, dont, really, much, want, animals, get, know, snake, pet, care, name, one, people, think, take, channel, family, god, snakes]     |\n",
              "[got, bad, black, gohan, feed, mine, breed, makes, tail, hamsters, kid, female, gecko, snow, legs, wants, vegan, 4, doberman, kitties]   |\n",
              "+-----------------------------------------------------------------------------------------------------------------------------------------+\n",
              "\n",
              "</div>"
            ]
          },
          "metadata": {
            "tags": []
          }
        }
      ]
    },
    {
      "cell_type": "markdown",
      "metadata": {
        "id": "PS-w8aR98Ngq",
        "colab_type": "text"
      },
      "source": [
        "Manually choose top 10 noun words with specific meaning as the topic words (excect dog and cat words):\n",
        "\n",
        "<br>fish\n",
        "<br>animal\n",
        "<br>videos \n",
        "<br>house \n",
        "<br>eye(s) \n",
        "<br>friend \n",
        "<br>cheese \n",
        "<br>pig \n",
        "<br>food\n",
        "<br>mom \n",
        "<br>kids"
      ]
    },
    {
      "cell_type": "markdown",
      "metadata": {
        "id": "-9lJIsIN8Ngq",
        "colab_type": "text"
      },
      "source": [
        "#### 4. Identify Creators With Cat And Dog Owners In The Audience"
      ]
    },
    {
      "cell_type": "code",
      "metadata": {
        "id": "j80bMpOr8Ngr",
        "colab_type": "code",
        "colab": {},
        "outputId": "9e78b72e-e3e5-4843-931b-59fe28c2b6ee"
      },
      "source": [
        "from pyspark.sql.functions import countDistinct\n",
        "tmp = prediction.filter(\"prediction = 1.0\")\n",
        "tmp.groupBy('creator_name').agg(countDistinct('userid')).sort('count(DISTINCT userid)',ascending= False).show()"
      ],
      "execution_count": 0,
      "outputs": [
        {
          "output_type": "display_data",
          "data": {
            "text/html": [
              "<style scoped>\n",
              "  .ansiout {\n",
              "    display: block;\n",
              "    unicode-bidi: embed;\n",
              "    white-space: pre-wrap;\n",
              "    word-wrap: break-word;\n",
              "    word-break: break-all;\n",
              "    font-family: \"Source Code Pro\", \"Menlo\", monospace;;\n",
              "    font-size: 13px;\n",
              "    color: #555;\n",
              "    margin-left: 4px;\n",
              "    line-height: 19px;\n",
              "  }\n",
              "</style>\n",
              "<div class=\"ansiout\">+--------------------+----------------------+\n",
              "        creator_name|count(DISTINCT userid)|\n",
              "+--------------------+----------------------+\n",
              "    Brave Wilderness|                 75932|\n",
              "            The Dodo|                 48018|\n",
              "  Taylor Nicole Dean|                 44203|\n",
              "       Brian Barczyk|                 32024|\n",
              "Hope For Paws - O...|                 25667|\n",
              "     Gohan The Husky|                 20024|\n",
              "           Vet Ranch|                 19314|\n",
              "        Robin Seplut|                 17628|\n",
              "    Cole &amp; Marmalade|                 12281|\n",
              "          stacyvlogs|                 12146|\n",
              "   Talking Kitty Cat|                 11768|\n",
              "            ViralHog|                 11274|\n",
              "Gone to the Snow ...|                 10589|\n",
              "     Viktor Larkhill|                 10059|\n",
              "       RaleighLink14|                  8956|\n",
              "Zak Georges Dog T...|                  8519|\n",
              "        Paws Channel|                  7535|\n",
              "  Think Like A Horse|                  7454|\n",
              "             Steff J|                  5912|\n",
              "           MonkeyBoo|                  5458|\n",
              "+--------------------+----------------------+\n",
              "only showing top 20 rows\n",
              "\n",
              "</div>"
            ]
          },
          "metadata": {
            "tags": []
          }
        }
      ]
    },
    {
      "cell_type": "markdown",
      "metadata": {
        "id": "OjdKoToV8Ngt",
        "colab_type": "text"
      },
      "source": [
        "We found that \"Brave Widerness\", \"The Dodo\" and \"Taylor Nicole Dean\" are the top 3 video creators who have the most pet owners in the audience"
      ]
    },
    {
      "cell_type": "markdown",
      "metadata": {
        "id": "TNjRAkMe8Ngu",
        "colab_type": "text"
      },
      "source": [
        "#### 5. Analysis and Future work"
      ]
    },
    {
      "cell_type": "markdown",
      "metadata": {
        "id": "brrW_27m8Ngu",
        "colab_type": "text"
      },
      "source": [
        "\n",
        "\n",
        "In this project, I analyzed 5,000,000+ user comments on Youtube videos data via Python and Spark to identify potential pet owners. \n",
        "The dataset is clean and in good shape already, but it lacks labels. To perform a supervise learning task, I first label the data using key words rules. Then I biult a machine learning pipeline for pet owner classification and mined the potenital topics that most related to them.\n",
        "\n",
        " \n",
        "The data has 4 columns: \"creator_name\", \"userid\", \"comment\", \"label\", I cleaned it by drop the rows with null comment.\n",
        "I then used tokenizer and word2vec to featurize the comment text to vector representation so that it can be learned by a model.\n",
        "Next I chose 3 clssification models, Logistic regression, random forest and Gradient Boosting Tree to build the classifer.\n",
        "I used 5-fold cross-validation and grid search to find the best hyperparameter for each model and choose the best model with the highest AUC score random forest 0.964.\n",
        "\n",
        "\n",
        "Afer selecting the best model, I used it to predict the pet ownership for all users and calculated the ratio of pet owners in all youtube users which is about 21.6%. I then mined the latent topics that most related to these pet owner using tokenizer, stop-word remover, Countvectorizer and LDA pipeline. \n",
        "\n",
        "\n",
        "Since we have found the topics that most related to the pet owners and indentified the video creator who has most pet owners in the audience, we can recommende Google Ads to use our model results to generate more customized ads (featurized on these topics) for the youtube users who owns pets, especially post these customized ads on the creator's videos who we found has most pet owner in the audience. \n",
        "By doing so, we can expect a significant increase of the ads click rate."
      ]
    },
    {
      "cell_type": "code",
      "metadata": {
        "id": "W4rDQx598Ngv",
        "colab_type": "code",
        "colab": {}
      },
      "source": [
        ""
      ],
      "execution_count": 0,
      "outputs": []
    }
  ]
}